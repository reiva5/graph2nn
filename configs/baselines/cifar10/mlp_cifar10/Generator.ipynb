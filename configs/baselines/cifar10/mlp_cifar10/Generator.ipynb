{
 "cells": [
  {
   "cell_type": "code",
   "execution_count": 1,
   "metadata": {},
   "outputs": [],
   "source": [
    "import os"
   ]
  },
  {
   "cell_type": "code",
   "execution_count": 8,
   "metadata": {},
   "outputs": [
    {
     "data": {
      "text/plain": [
       "3943"
      ]
     },
     "execution_count": 8,
     "metadata": {},
     "output_type": "execute_result"
    }
   ],
   "source": [
    "import numpy as np\n",
    "tmp = np.array(os.listdir('all'))\n",
    "len(tmp)"
   ]
  },
  {
   "cell_type": "code",
   "execution_count": 10,
   "metadata": {},
   "outputs": [
    {
     "data": {
      "text/plain": [
       "array(['mlp_bs128_1gpu_layer3_transtalklinear_talkmodedense_num64_messagews_sparsity0.132569_p0.005917_aggsum_graphseed6_starttrainseed1_endtrainseed6_keepTrue_add1x10_upperTrue_matchTrue_epoch200.yaml',\n",
       "       'mlp_bs128_1gpu_layer3_transtalklinear_talkmodedense_num64_messagews_sparsity0.168515_p0.142828_aggsum_graphseed23_starttrainseed1_endtrainseed6_keepTrue_add1x10_upperTrue_matchTrue_epoch200.yaml',\n",
       "       'mlp_bs128_1gpu_layer3_transtalklinear_talkmodedense_num64_messagews_sparsity0.342907_p0.064608_aggsum_graphseed10_starttrainseed1_endtrainseed6_keepTrue_add1x10_upperTrue_matchTrue_epoch200.yaml',\n",
       "       'mlp_bs128_1gpu_layer3_transtalklinear_talkmodedense_num64_messagews_sparsity0.125_p0.004933_aggsum_graphseed3_starttrainseed1_endtrainseed6_keepTrue_add1x10_upperTrue_matchTrue_epoch200.yaml',\n",
       "       'mlp_bs128_1gpu_layer3_transtalklinear_talkmodedense_num64_messagews_sparsity0.534548_p0.189036_aggsum_graphseed1_starttrainseed1_endtrainseed6_keepTrue_add1x10_upperTrue_matchTrue_epoch200.yaml',\n",
       "       'mlp_bs128_1gpu_layer3_transtalklinear_talkmodedense_num64_messagews_sparsity0.457361_p0.216116_aggsum_graphseed4_starttrainseed1_endtrainseed6_keepTrue_add1x10_upperTrue_matchTrue_epoch200.yaml',\n",
       "       'mlp_bs128_1gpu_layer3_transtalklinear_talkmodedense_num64_messagews_sparsity0.175514_p0.258431_aggsum_graphseed25_starttrainseed1_endtrainseed6_keepTrue_add1x10_upperTrue_matchTrue_epoch200.yaml',\n",
       "       'mlp_bs128_1gpu_layer3_transtalklinear_talkmodedense_num64_messagews_sparsity0.365501_p0.378698_aggsum_graphseed3_starttrainseed1_endtrainseed6_keepTrue_add1x10_upperTrue_matchTrue_epoch200.yaml',\n",
       "       'mlp_bs128_1gpu_layer3_transtalklinear_talkmodedense_num64_messagews_sparsity0.188103_p0.026857_aggsum_graphseed16_starttrainseed1_endtrainseed6_keepTrue_add1x10_upperTrue_matchTrue_epoch200.yaml',\n",
       "       'mlp_bs128_1gpu_layer3_transtalklinear_talkmodedense_num64_messagews_sparsity0.214591_p0.225546_aggsum_graphseed13_starttrainseed1_endtrainseed6_keepTrue_add1x10_upperTrue_matchTrue_epoch200.yaml',\n",
       "       'mlp_bs128_1gpu_layer3_transtalklinear_talkmodedense_num64_messagews_sparsity0.206845_p0.953725_aggsum_graphseed2_starttrainseed1_endtrainseed6_keepTrue_add1x10_upperTrue_matchTrue_epoch200.yaml',\n",
       "       'mlp_bs128_1gpu_layer3_transtalklinear_talkmodedense_num64_messagews_sparsity0.604559_p0.024709_aggsum_graphseed13_starttrainseed1_endtrainseed6_keepTrue_add1x10_upperTrue_matchTrue_epoch200.yaml',\n",
       "       'mlp_bs128_1gpu_layer3_transtalklinear_talkmodedense_num64_messagews_sparsity0.125_p0.488596_aggsum_graphseed21_starttrainseed1_endtrainseed6_keepTrue_add1x10_upperTrue_matchTrue_epoch200.yaml',\n",
       "       'mlp_bs128_1gpu_layer3_transtalklinear_talkmodedense_num64_messagews_sparsity0.281684_p0.327077_aggsum_graphseed4_starttrainseed1_endtrainseed6_keepTrue_add1x10_upperTrue_matchTrue_epoch200.yaml',\n",
       "       'mlp_bs128_1gpu_layer3_transtalklinear_talkmodedense_num64_messagews_sparsity0.14036_p0.000179_aggsum_graphseed17_starttrainseed1_endtrainseed6_keepTrue_add1x10_upperTrue_matchTrue_epoch200.yaml',\n",
       "       'mlp_bs128_1gpu_layer3_transtalklinear_talkmodedense_num64_messagews_sparsity0.546957_p0.183264_aggsum_graphseed10_starttrainseed1_endtrainseed6_keepTrue_add1x10_upperTrue_matchTrue_epoch200.yaml',\n",
       "       'mlp_bs128_1gpu_layer3_transtalklinear_talkmodedense_num64_messagews_sparsity0.448842_p0.687957_aggsum_graphseed20_starttrainseed1_endtrainseed6_keepTrue_add1x10_upperTrue_matchTrue_epoch200.yaml',\n",
       "       'mlp_bs128_1gpu_layer3_transtalklinear_talkmodedense_num64_messagews_sparsity0.342907_p0.216116_aggsum_graphseed7_starttrainseed1_endtrainseed6_keepTrue_add1x10_upperTrue_matchTrue_epoch200.yaml',\n",
       "       'mlp_bs128_1gpu_layer3_transtalklinear_talkmodedense_num64_messagews_sparsity0.226477_p0.020682_aggsum_graphseed14_starttrainseed1_endtrainseed6_keepTrue_add1x10_upperTrue_matchTrue_epoch200.yaml',\n",
       "       'mlp_bs128_1gpu_layer3_transtalklinear_talkmodedense_num64_messagews_sparsity0.259739_p0.235176_aggsum_graphseed13_starttrainseed1_endtrainseed6_keepTrue_add1x10_upperTrue_matchTrue_epoch200.yaml',\n",
       "       'mlp_bs128_1gpu_layer3_transtalklinear_talkmodedense_num64_messagews_sparsity0.141945_p0.009407_aggsum_graphseed12_starttrainseed1_endtrainseed6_keepTrue_add1x10_upperTrue_matchTrue_epoch200.yaml',\n",
       "       'mlp_bs128_1gpu_layer3_transtalklinear_talkmodedense_num64_messagews_sparsity0.145142_p0.114104_aggsum_graphseed11_starttrainseed1_endtrainseed6_keepTrue_add1x10_upperTrue_matchTrue_epoch200.yaml',\n",
       "       'mlp_bs128_1gpu_layer3_transtalklinear_talkmodedense_num64_messagews_sparsity0.126496_p0.059608_aggsum_graphseed29_starttrainseed1_endtrainseed6_keepTrue_add1x10_upperTrue_matchTrue_epoch200.yaml',\n",
       "       'mlp_bs128_1gpu_layer3_transtalklinear_talkmodedense_num64_messagews_sparsity0.318648_p0.094675_aggsum_graphseed23_starttrainseed1_endtrainseed6_keepTrue_add1x10_upperTrue_matchTrue_epoch200.yaml',\n",
       "       'mlp_bs128_1gpu_layer3_transtalklinear_talkmodedense_num64_messagews_sparsity0.146754_p0.213018_aggsum_graphseed1_starttrainseed1_endtrainseed6_keepTrue_add1x10_upperTrue_matchTrue_epoch200.yaml',\n",
       "       'mlp_bs128_1gpu_layer3_transtalklinear_talkmodedense_num64_messagews_sparsity0.242823_p0.163768_aggsum_graphseed2_starttrainseed1_endtrainseed6_keepTrue_add1x10_upperTrue_matchTrue_epoch200.yaml',\n",
       "       'mlp_bs128_1gpu_layer3_transtalklinear_talkmodedense_num64_messagews_sparsity0.330666_p0.053254_aggsum_graphseed12_starttrainseed1_endtrainseed6_keepTrue_add1x10_upperTrue_matchTrue_epoch200.yaml',\n",
       "       'mlp_bs128_1gpu_layer3_transtalklinear_talkmodedense_num64_messagews_sparsity0.148374_p0.551269_aggsum_graphseed27_starttrainseed1_endtrainseed6_keepTrue_add1x10_upperTrue_matchTrue_epoch200.yaml',\n",
       "       'mlp_bs128_1gpu_layer3_transtalklinear_talkmodedense_num64_messagews_sparsity0.125_p0.10095_aggsum_graphseed0_starttrainseed1_endtrainseed6_keepTrue_add1x10_upperTrue_matchTrue_epoch200.yaml',\n",
       "       'mlp_bs128_1gpu_layer3_transtalklinear_talkmodedense_num64_messagews_sparsity0.328245_p0.546314_aggsum_graphseed20_starttrainseed1_endtrainseed6_keepTrue_add1x10_upperTrue_matchTrue_epoch200.yaml',\n",
       "       'mlp_bs128_1gpu_layer3_transtalklinear_talkmodedense_num64_messagews_sparsity0.236627_p0.354403_aggsum_graphseed22_starttrainseed1_endtrainseed6_keepTrue_add1x10_upperTrue_matchTrue_epoch200.yaml',\n",
       "       'mlp_bs128_1gpu_layer3_transtalklinear_talkmodedense_num64_messagews_sparsity0.138784_p0.094675_aggsum_graphseed10_starttrainseed1_endtrainseed6_keepTrue_add1x10_upperTrue_matchTrue_epoch200.yaml',\n",
       "       'mlp_bs128_1gpu_layer3_transtalklinear_talkmodedense_num64_messagews_sparsity0.264057_p0.330914_aggsum_graphseed6_starttrainseed1_endtrainseed6_keepTrue_add1x10_upperTrue_matchTrue_epoch200.yaml',\n",
       "       'mlp_bs128_1gpu_layer3_transtalklinear_talkmodedense_num64_messagews_sparsity0.135659_p0.007561_aggsum_graphseed20_starttrainseed1_endtrainseed6_keepTrue_add1x10_upperTrue_matchTrue_epoch200.yaml',\n",
       "       'mlp_bs128_1gpu_layer3_transtalklinear_talkmodedense_num64_messagews_sparsity0.186278_p0.304527_aggsum_graphseed19_starttrainseed1_endtrainseed6_keepTrue_add1x10_upperTrue_matchTrue_epoch200.yaml',\n",
       "       'mlp_bs128_1gpu_layer3_transtalklinear_talkmodedense_num64_messagews_sparsity0.151642_p0.002864_aggsum_graphseed25_starttrainseed1_endtrainseed6_keepTrue_add1x10_upperTrue_matchTrue_epoch200.yaml',\n",
       "       'mlp_bs128_1gpu_layer3_transtalklinear_talkmodedense_num64_messagews_sparsity0.206845_p0.092628_aggsum_graphseed8_starttrainseed1_endtrainseed6_keepTrue_add1x10_upperTrue_matchTrue_epoch200.yaml',\n",
       "       'mlp_bs128_1gpu_layer3_transtalklinear_talkmodedense_num64_messagews_sparsity0.253329_p0.203857_aggsum_graphseed5_starttrainseed1_endtrainseed6_keepTrue_add1x10_upperTrue_matchTrue_epoch200.yaml',\n",
       "       'mlp_bs128_1gpu_layer3_transtalklinear_talkmodedense_num64_messagews_sparsity0.151642_p0.03142_aggsum_graphseed1_starttrainseed1_endtrainseed6_keepTrue_add1x10_upperTrue_matchTrue_epoch200.yaml',\n",
       "       'mlp_bs128_1gpu_layer3_transtalklinear_talkmodedense_num64_messagews_sparsity0.180856_p0.465498_aggsum_graphseed2_starttrainseed1_endtrainseed6_keepTrue_add1x10_upperTrue_matchTrue_epoch200.yaml',\n",
       "       'mlp_bs128_1gpu_layer3_transtalklinear_talkmodedense_num64_messagews_sparsity0.212641_p0.399559_aggsum_graphseed21_starttrainseed1_endtrainseed6_keepTrue_add1x10_upperTrue_matchTrue_epoch200.yaml',\n",
       "       'mlp_bs128_1gpu_layer3_transtalklinear_talkmodedense_num64_messagews_sparsity0.415567_p0.017897_aggsum_graphseed23_starttrainseed1_endtrainseed6_keepTrue_add1x10_upperTrue_matchTrue_epoch200.yaml',\n",
       "       'mlp_bs128_1gpu_layer3_transtalklinear_talkmodedense_num64_messagews_sparsity0.264057_p0.044395_aggsum_graphseed2_starttrainseed1_endtrainseed6_keepTrue_add1x10_upperTrue_matchTrue_epoch200.yaml',\n",
       "       'mlp_bs128_1gpu_layer3_transtalklinear_talkmodedense_num64_messagews_sparsity0.131037_p0.395342_aggsum_graphseed15_starttrainseed1_endtrainseed6_keepTrue_add1x10_upperTrue_matchTrue_epoch200.yaml',\n",
       "       'mlp_bs128_1gpu_layer3_transtalklinear_talkmodedense_num64_messagews_sparsity0.180856_p0.029094_aggsum_graphseed23_starttrainseed1_endtrainseed6_keepTrue_add1x10_upperTrue_matchTrue_epoch200.yaml',\n",
       "       'mlp_bs128_1gpu_layer3_transtalklinear_talkmodedense_num64_messagews_sparsity0.165069_p0.020682_aggsum_graphseed7_starttrainseed1_endtrainseed6_keepTrue_add1x10_upperTrue_matchTrue_epoch200.yaml',\n",
       "       'mlp_bs128_1gpu_layer3_transtalklinear_talkmodedense_num64_messagews_sparsity0.171997_p0.272212_aggsum_graphseed20_starttrainseed1_endtrainseed6_keepTrue_add1x10_upperTrue_matchTrue_epoch200.yaml',\n",
       "       'mlp_bs128_1gpu_layer3_transtalklinear_talkmodedense_num64_messagews_sparsity0.132569_p0.03142_aggsum_graphseed27_starttrainseed1_endtrainseed6_keepTrue_add1x10_upperTrue_matchTrue_epoch200.yaml',\n",
       "       'mlp_bs128_1gpu_layer3_transtalklinear_talkmodedense_num64_messagews_sparsity0.125_p0.066319_aggsum_graphseed5_starttrainseed1_endtrainseed6_keepTrue_add1x10_upperTrue_matchTrue_epoch200.yaml',\n",
       "       'mlp_bs128_1gpu_layer3_transtalklinear_talkmodedense_num64_messagews_sparsity0.2107_p0.163768_aggsum_graphseed13_starttrainseed1_endtrainseed6_keepTrue_add1x10_upperTrue_matchTrue_epoch200.yaml',\n",
       "       'mlp_bs128_1gpu_layer3_transtalklinear_talkmodedense_num64_messagews_sparsity0.156611_p0.012931_aggsum_graphseed20_starttrainseed1_endtrainseed6_keepTrue_add1x10_upperTrue_matchTrue_epoch200.yaml',\n",
       "       'mlp_bs128_1gpu_layer3_transtalklinear_talkmodedense_num64_messagews_sparsity0.153289_p0.024709_aggsum_graphseed29_starttrainseed1_endtrainseed6_keepTrue_add1x10_upperTrue_matchTrue_epoch200.yaml',\n",
       "       'mlp_bs128_1gpu_layer3_transtalklinear_talkmodedense_num64_messagews_sparsity0.21655_p0.103086_aggsum_graphseed0_starttrainseed1_endtrainseed6_keepTrue_add1x10_upperTrue_matchTrue_epoch200.yaml',\n",
       "       'mlp_bs128_1gpu_layer3_transtalklinear_talkmodedense_num64_messagews_sparsity0.21655_p0.075212_aggsum_graphseed15_starttrainseed1_endtrainseed6_keepTrue_add1x10_upperTrue_matchTrue_epoch200.yaml'],\n",
       "      dtype='<U194')"
      ]
     },
     "execution_count": 10,
     "metadata": {},
     "output_type": "execute_result"
    }
   ],
   "source": [
    "import random\n",
    "val = [i for i in range(len(tmp))]\n",
    "x = np.array(random.sample(val, 54))\n",
    "tmp[x]"
   ]
  },
  {
   "cell_type": "code",
   "execution_count": 15,
   "metadata": {},
   "outputs": [
    {
     "name": "stdout",
     "output_type": "stream",
     "text": [
      "[1 2 2 3]\n"
     ]
    },
    {
     "data": {
      "text/plain": [
       "array([[0, 1, 4],\n",
       "       [5, 6, 0]])"
      ]
     },
     "execution_count": 15,
     "metadata": {},
     "output_type": "execute_result"
    }
   ],
   "source": [
    "asu = np.array([[0,1,2],[2,3,0]])\n",
    "kntl = np.where(asu != 0)\n",
    "print(asu[kntl])\n",
    "asu[kntl] = [1,4,5,6]\n",
    "asu"
   ]
  },
  {
   "cell_type": "code",
   "execution_count": 19,
   "metadata": {},
   "outputs": [
    {
     "data": {
      "text/plain": [
       "array([[1, 0, 1],\n",
       "       [1, 0, 1]])"
      ]
     },
     "execution_count": 19,
     "metadata": {},
     "output_type": "execute_result"
    }
   ],
   "source": [
    "wkwk = np.random.choice([0,1], 6)\n",
    "wkwk.reshape(2,3)"
   ]
  },
  {
   "cell_type": "code",
   "execution_count": 22,
   "metadata": {},
   "outputs": [
    {
     "data": {
      "text/plain": [
       "array([[0., 0., 0.],\n",
       "       [0., 0., 0.]])"
      ]
     },
     "execution_count": 22,
     "metadata": {},
     "output_type": "execute_result"
    }
   ],
   "source": [
    "np.zeros((2,3))"
   ]
  },
  {
   "cell_type": "code",
   "execution_count": 24,
   "metadata": {},
   "outputs": [
    {
     "data": {
      "text/plain": [
       "4"
      ]
     },
     "execution_count": 24,
     "metadata": {},
     "output_type": "execute_result"
    }
   ],
   "source": [
    "int(np.sum(wkwk))"
   ]
  },
  {
   "cell_type": "code",
   "execution_count": 35,
   "metadata": {},
   "outputs": [],
   "source": [
    "def CNV(val):\n",
    "    return '_'.join([str(x).replace(\".\", \"-\") for x in val])"
   ]
  },
  {
   "cell_type": "code",
   "execution_count": 46,
   "metadata": {},
   "outputs": [],
   "source": [
    "for name_file in tmp[x]:\n",
    "    specs_fixed = [True, False]\n",
    "    specs_prob = [[0.1, 0.9], [0.2, 0.8], [0.5, 0.5], [0.05, 0.95], [0.01, 0.99]]\n",
    "    f = open('all/' + name_file, 'r')\n",
    "    out = [[open('best/' + name_file[:-5].replace(\"transtalklinear\", \"transnoisytalklinear\") + \"_dinamicity_\" + str(x) + \"_prob\" + CNV(y) + \".yaml\", 'w+') for y in specs_prob] for x in specs_fixed]\n",
    "    for line in f.readlines():\n",
    "        for i in range(len(out)):\n",
    "            for j in range(len(out[i])):\n",
    "                out[i][j].write(line.replace(\"talklinear_transform\", \"noisytalklinear_transform\"))\n",
    "                if line.strip() == \"RGRAPH:\":\n",
    "                    out[i][j].write('  FIXED_DINAMICITY: ' + str(specs_fixed[i]) + '\\n')\n",
    "                    out[i][j].write('  LOSE_EDGE_PROBABILITY: ' + str(specs_prob[j]) + '\\n')"
   ]
  },
  {
   "cell_type": "code",
   "execution_count": 33,
   "metadata": {},
   "outputs": [
    {
     "name": "stdout",
     "output_type": "stream",
     "text": [
      "[0.1, 0.9]\n"
     ]
    }
   ],
   "source": [
    "asu = [0.1, 0.9]\n",
    "print(str(asu))"
   ]
  },
  {
   "cell_type": "code",
   "execution_count": 41,
   "metadata": {},
   "outputs": [
    {
     "data": {
      "text/plain": [
       "'aabb'"
      ]
     },
     "execution_count": 41,
     "metadata": {},
     "output_type": "execute_result"
    }
   ],
   "source": [
    "asu = \"aaabbb\"\n",
    "asu.replace(\"ab\", \"\")"
   ]
  },
  {
   "cell_type": "code",
   "execution_count": 42,
   "metadata": {},
   "outputs": [
    {
     "data": {
      "text/plain": [
       "'aaabbb'"
      ]
     },
     "execution_count": 42,
     "metadata": {},
     "output_type": "execute_result"
    }
   ],
   "source": [
    "asu"
   ]
  },
  {
   "cell_type": "code",
   "execution_count": null,
   "metadata": {},
   "outputs": [],
   "source": []
  }
 ],
 "metadata": {
  "kernelspec": {
   "display_name": "Python 3",
   "language": "python",
   "name": "python3"
  },
  "language_info": {
   "codemirror_mode": {
    "name": "ipython",
    "version": 3
   },
   "file_extension": ".py",
   "mimetype": "text/x-python",
   "name": "python",
   "nbconvert_exporter": "python",
   "pygments_lexer": "ipython3",
   "version": "3.8.5"
  }
 },
 "nbformat": 4,
 "nbformat_minor": 4
}
